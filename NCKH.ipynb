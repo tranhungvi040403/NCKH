{
 "cells": [
  {
   "cell_type": "code",
   "execution_count": 35,
   "id": "c0ab30f3-ec3e-45c0-85cc-0d853abd0d6a",
   "metadata": {},
   "outputs": [
    {
     "name": "stdout",
     "output_type": "stream",
     "text": [
      "Đã xong\n"
     ]
    }
   ],
   "source": [
    "import pandas as pd\n",
    "import numpy as np\n",
    "from sklearn.impute import KNNImputer\n",
    "from sklearn.preprocessing import MinMaxScaler\n",
    "\n",
    "# Hàm tải và xử lý tệp dữ liệu\n",
    "def load_and_process_file(file_path, column_names):\n",
    "    file_path = file_path.strip('\\u202a')\n",
    "    data = pd.read_csv(file_path, encoding='utf-8-sig', delimiter=',', decimal='.', header=None, skiprows=1, names=column_names)\n",
    "    data['date'] = pd.to_datetime(data['date'], format='%d/%m/%Y')\n",
    "    data = data.sort_values(by='date')\n",
    "    return data\n",
    "\n",
    "# Hàm điền các ngày bị thiếu\n",
    "def fill_missing_dates(df, column_name):\n",
    "    start_date = pd.to_datetime('2024-01-01')\n",
    "    end_date = pd.to_datetime('2025-03-03')\n",
    "    full_dates = pd.date_range(start=start_date, end=end_date, freq='D')\n",
    "    missing_dates = full_dates.difference(df['date'])\n",
    "    missing_df = pd.DataFrame({'date': missing_dates, column_name: np.nan})\n",
    "    df = pd.concat([df, missing_df], ignore_index=True).sort_values('date').reset_index(drop=True)\n",
    "    return df\n",
    "\n",
    "# Hàm điền dữ liệu thiếu bằng KNN\n",
    "def knn_impute(df, column_name):\n",
    "    df['date_ordinal'] = df['date'].map(pd.Timestamp.toordinal)\n",
    "    knn_imputer = KNNImputer(n_neighbors=1)\n",
    "    imputed_data = knn_imputer.fit_transform(df[['date_ordinal', column_name]])\n",
    "    df[column_name] = imputed_data[:, 1]\n",
    "    df.drop(columns=['date_ordinal'], inplace=True)\n",
    "    return df\n",
    "\n",
    "# Hàm xử lý toàn bộ quy trình cho một file\n",
    "def process_file(file_path, output_path):\n",
    "    column_names = [\"Ten_Tram\", \"Nguon\", \"Link\", \"KinhDo_WGS84\", \"ViDo_WGS84\", \"KinhDo_VN2000\", \"ViDo_VN2000\", \"date\", \"PM25\", \"PM10\", \"CO\", \"SO2\", \"NO2\", \"O3\"]\n",
    "    df = load_and_process_file(file_path, column_names)\n",
    "    df = fill_missing_dates(df, \"PM25\")  # Áp dụng cho một cột, các cột khác sẽ tự động bổ sung\n",
    "    \n",
    "    columns_to_impute = ['PM25', 'PM10', 'CO', 'SO2', 'NO2', 'O3']\n",
    "    for col in columns_to_impute:\n",
    "        df = knn_impute(df, col)\n",
    "    \n",
    "    scaler = MinMaxScaler()\n",
    "    for col in columns_to_impute:\n",
    "        df[f'{col}_scaled'] = scaler.fit_transform(df[[col]])\n",
    "    \n",
    "    df.to_csv(output_path, index=False)\n",
    "\n",
    "# Xử lý cả hai file\n",
    "file_paths = [\"D:/LeHuuKieu.csv\", \"D:/AnPhu.csv\"]\n",
    "output_paths = [\"D:/LeHuuKieu_processed.csv\", \"D:/AnPhu_processed.csv\"]\n",
    "\n",
    "for file_path, output_path in zip(file_paths, output_paths):\n",
    "    process_file(file_path, output_path)\n",
    "\n",
    "print('Đã xong')"
   ]
  },
  {
   "cell_type": "code",
   "execution_count": null,
   "id": "3efb3477-712a-4335-8755-f41ce258a17e",
   "metadata": {},
   "outputs": [],
   "source": []
  }
 ],
 "metadata": {
  "kernelspec": {
   "display_name": "Python 3 (ipykernel)",
   "language": "python",
   "name": "python3"
  },
  "language_info": {
   "codemirror_mode": {
    "name": "ipython",
    "version": 3
   },
   "file_extension": ".py",
   "mimetype": "text/x-python",
   "name": "python",
   "nbconvert_exporter": "python",
   "pygments_lexer": "ipython3",
   "version": "3.12.7"
  }
 },
 "nbformat": 4,
 "nbformat_minor": 5
}
